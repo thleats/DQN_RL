{
  "nbformat": 4,
  "nbformat_minor": 0,
  "metadata": {
    "colab": {
      "name": "Lab9_DQN_PPO.ipynb",
      "provenance": [],
      "collapsed_sections": []
    },
    "kernelspec": {
      "name": "python3",
      "display_name": "Python 3"
    },
    "accelerator": "GPU"
  },
  "cells": [
    {
      "cell_type": "markdown",
      "metadata": {
        "id": "znmRTNO0JVez",
        "colab_type": "text"
      },
      "source": [
        "Part 1: DQN\n",
        "\n",
        "DONE:\n",
        "-implement get action\n",
        "-implement sample batch\n",
        "-implement dqn\n",
        "\n",
        "Part 2: PPO\n",
        "\n",
        "DONE: \n",
        "-Implement calculate return method\n",
        "-Implement get action method\n",
        "-implement PPO learning algorithm **(turned in 30 min late)**\n",
        "\n",
        "\n",
        "Part 3: Cartpole\n",
        "\n",
        "DONE: \n",
        "Train DQN\n",
        "Train PPO\n",
        "\n",
        "-DQN image:\n",
        "\n",
        "![alt text]( https://thleats-bucket.s3.us-east-2.amazonaws.com/DQN.JPG)\n",
        "\n"
      ]
    },
    {
      "cell_type": "markdown",
      "metadata": {
        "id": "pW6M2idbKMxm",
        "colab_type": "text"
      },
      "source": [
        "### DQN"
      ]
    },
    {
      "cell_type": "code",
      "metadata": {
        "id": "KkUKSkcypcmE",
        "colab_type": "code",
        "outputId": "6a562906-f97e-460c-e918-7f6e7b581777",
        "colab": {
          "base_uri": "https://localhost:8080/",
          "height": 1000
        }
      },
      "source": [
        "\n",
        "\n",
        "! pip3 install gym\n",
        "! pip3 install torch\n",
        "\n",
        "import gym\n",
        "import torch\n",
        "import torch.nn as nn\n",
        "from itertools import chain\n",
        "import matplotlib.pyplot as plt\n",
        "from tqdm import tqdm\n",
        "import random\n",
        "from torch.utils.data import Dataset, DataLoader\n",
        "import numpy as np\n",
        "import pdb\n",
        "\n",
        "\n",
        "# Q-Value Network\n",
        "class QNetwork(nn.Module):\n",
        "  def __init__(self, state_size, action_size):\n",
        "    super().__init__()\n",
        "    hidden_size = 8\n",
        "    \n",
        "    self.net = nn.Sequential(nn.Linear(state_size, hidden_size),\n",
        "                             nn.ReLU(),\n",
        "                             nn.Linear(hidden_size, hidden_size),\n",
        "                             nn.ReLU(),\n",
        "                             nn.Linear(hidden_size, hidden_size),\n",
        "                             nn.ReLU(),\n",
        "                             nn.Linear(hidden_size, action_size))  \n",
        "    \n",
        "  def forward(self, x):\n",
        "    \"\"\"Estimate q-values given state\n",
        "\n",
        "      Args:\n",
        "          state (tensor): current state, size (batch x state_size)\n",
        "\n",
        "      Returns:\n",
        "          q-values (tensor): estimated q-values, size (batch x action_size)\n",
        "    \"\"\"\n",
        "    return self.net(x)\n",
        "\n",
        "\n",
        "\n",
        "def get_action_dqn(network, state, epsilon, epsilon_decay):\n",
        "\n",
        "  rand = random.random()\n",
        "  if rand < epsilon:\n",
        "    return random.randint(0,1),epsilon*epsilon_decay\n",
        "  else:\n",
        "    state = np.float32(state)\n",
        "    test = torch.tensor(state).cuda()\n",
        "    return torch.argmax(network(test)),epsilon*epsilon_decay\n",
        "\n",
        "\n",
        "def prepare_batch(memory, batch_size):\n",
        "  \"\"\"Randomly sample batch from memory\n",
        "     Prepare cuda tensors\n",
        "  \n",
        "    Args:\n",
        "        memory (list): state, action, next_state, reward, done tuples\n",
        "        batch_size (int): amount of memory to sample into a batch\n",
        "\n",
        "    Returns:\n",
        "        state (tensor): float cuda tensor of size (batch_size x state_size()\n",
        "        action (tensor): long tensor of size (batch_size)\n",
        "        next_state (tensor): float cuda tensor of size (batch_size x state_size)\n",
        "        reward (tensor): float cuda tensor of size (batch_size)\n",
        "        done (tensor): float cuda tensor of size (batch_size)\n",
        "  \"\"\"\n",
        "  \n",
        "  slices = np.random.randint(0,len(memory),batch_size)\n",
        "  memory_array=np.asarray(memory)\n",
        "  test=memory_array[slices]\n",
        "  #pdb.set_trace()\n",
        "  state=torch.tensor(np.float32(np.vstack(test[:,0])))\n",
        "  action=torch.tensor(np.float32(np.vstack(test[:,1])))\n",
        "  next_state=torch.tensor(np.float32(np.vstack(test[:,2])))\n",
        "  reward=torch.tensor(np.float32(np.vstack(test[:,3])))\n",
        "  done=torch.tensor(np.float32(np.vstack(test[:,4])))\n",
        "  \n",
        "  return state,action,next_state,reward,done\n",
        "  \n",
        "  \n",
        "def learn_dqn(batch, optim, q_network, target_network, gamma, global_step, target_update):\n",
        "  \"\"\"Update Q-Network according to DQN Loss function\n",
        "     Update Target Network every target_update global steps\n",
        "\n",
        "    Args:\n",
        "        batch (tuple): tuple of state, action, next_state, reward, and done tensors\n",
        "        optim (Adam): Q-Network optimizer\n",
        "        q_network (QNetwork): Q-Network\n",
        "        target_network (QNetwork): Target Q-Network\n",
        "        gamma (float): discount factor\n",
        "        global_step (int): total steps taken in environment\n",
        "        target_update (int): frequency of target network update\n",
        "  \"\"\"\n",
        "  \n",
        "  state,action,next_state,reward,done=batch\n",
        "  #pdb.set_trace()\n",
        "  batch_size=state.size(0)\n",
        "  #pdb.set_trace()\n",
        "  action_oh=torch.FloatTensor(batch_size,2)*0#create a batch size by 2 matrix\n",
        "  action_out=action_oh.scatter(1,action.long(),1)#create a onehot matrix from which actions are tkane\n",
        "  output=q_network(state.cuda())\n",
        "  actions_gathered=torch.gather(output,1,action.long().cuda())\n",
        "  #pdb.set_trace()\n",
        "  out = torch.max(target_network(next_state.cuda()),1)\n",
        "  #pdb.set_trace()\n",
        "  weee = ((actions_gathered.t()-(reward.t().cuda() + gamma * out[0] *(1-done.t().cuda())))**2)\n",
        "  loss = torch.sum(weee.squeeze(0))/batch_size\n",
        "  #pdb.set_trace()\n",
        "  optim.zero_grad()\n",
        "  loss.backward()\n",
        "  optim.step()\n",
        "  #print(target_update % global_step)\n",
        "  if global_step % target_update==0:\n",
        "    target_network.load_state_dict(q_network.state_dict())\n",
        "    #pdb.set_trace()\n",
        "    print('updated')\n",
        "  return(loss)\n",
        "\n",
        "def dqn_main():\n",
        "  # Hyper parameters\n",
        "  lr = 1e-3\n",
        "  epochs = 500\n",
        "  start_training = 1000\n",
        "  gamma = 0.99\n",
        "  batch_size = 32\n",
        "  epsilon = 1\n",
        "  epsilon_decay = .9999\n",
        "  target_update = 1000\n",
        "  learn_frequency = 2\n",
        "\n",
        "  # Init environment\n",
        "  state_size = 4\n",
        "  action_size = 2\n",
        "  env = gym.make('CartPole-v1', )\n",
        "\n",
        "  # Init networks\n",
        "  q_network = QNetwork(state_size, action_size).cuda()\n",
        "  target_network = QNetwork(state_size, action_size).cuda()\n",
        "  target_network.load_state_dict(q_network.state_dict())\n",
        "\n",
        "  # Init optimizer\n",
        "  optim = torch.optim.Adam(q_network.parameters(), lr=lr)\n",
        "\n",
        "  # Init replay buffer\n",
        "  memory = []\n",
        "\n",
        "  # Begin main loop\n",
        "  results_dqn = []\n",
        "  global_step = 0\n",
        "  loop = tqdm(total=epochs, position=0, leave=False)\n",
        "  for epoch in range(epochs):\n",
        "\n",
        "    # Reset environment\n",
        "    state = env.reset()\n",
        "    done = False\n",
        "    cum_reward = 0  # Track cumulative reward per episode\n",
        "\n",
        "    # Begin episode\n",
        "    while not done and cum_reward < 200:  # End after 200 steps \n",
        "      # Select e-greedy action\n",
        "      action, epsilon = get_action_dqn(q_network, state, epsilon, epsilon_decay)\n",
        "      # Take step\n",
        "      try:\n",
        "        next_state, reward, done, _ = env.step(action)\n",
        "      except:\n",
        "        #pdb.set_trace()\n",
        "        next_state, reward, done, _ = env.step(action.cpu().item())\n",
        "      # env.render()\n",
        "\n",
        "      # Store step in replay buffer\n",
        "      try:\n",
        "        memory.append((state, action.cpu().item(), next_state, reward, done))\n",
        "      except:\n",
        "        memory.append((state, action, next_state, reward, done))\n",
        "\n",
        "      cum_reward += reward\n",
        "      global_step += 1  # Increment total steps\n",
        "      state = next_state  # Set current state\n",
        "\n",
        "      # If time to train\n",
        "      if global_step > start_training and global_step % learn_frequency == 0:\n",
        "\n",
        "        # Sample batch\n",
        "        batch = prepare_batch(memory, batch_size)\n",
        "        #pdb.set_trace()\n",
        "        # Train\n",
        "        learn_dqn(batch, optim, q_network, target_network, gamma, global_step, target_update)\n",
        "\n",
        "    # Print results at end of episode\n",
        "    results_dqn.append(cum_reward)\n",
        "    loop.update(1)\n",
        "    loop.set_description('Episodes: {} Reward: {}'.format(epoch, cum_reward))\n",
        "  \n",
        "  return results_dqn\n",
        "\n",
        "results_dqn = dqn_main()\n",
        "\n",
        "plt.plot(results_dqn)\n",
        "plt.show()"
      ],
      "execution_count": 0,
      "outputs": [
        {
          "output_type": "stream",
          "text": [
            "Requirement already satisfied: gym in /usr/local/lib/python3.6/dist-packages (0.15.4)\n",
            "Requirement already satisfied: pyglet<=1.3.2,>=1.2.0 in /usr/local/lib/python3.6/dist-packages (from gym) (1.3.2)\n",
            "Requirement already satisfied: cloudpickle~=1.2.0 in /usr/local/lib/python3.6/dist-packages (from gym) (1.2.2)\n",
            "Requirement already satisfied: opencv-python in /usr/local/lib/python3.6/dist-packages (from gym) (3.4.7.28)\n",
            "Requirement already satisfied: six in /usr/local/lib/python3.6/dist-packages (from gym) (1.12.0)\n",
            "Requirement already satisfied: numpy>=1.10.4 in /usr/local/lib/python3.6/dist-packages (from gym) (1.17.4)\n",
            "Requirement already satisfied: scipy in /usr/local/lib/python3.6/dist-packages (from gym) (1.3.2)\n",
            "Requirement already satisfied: future in /usr/local/lib/python3.6/dist-packages (from pyglet<=1.3.2,>=1.2.0->gym) (0.16.0)\n",
            "Requirement already satisfied: torch in /usr/local/lib/python3.6/dist-packages (1.3.1)\n",
            "Requirement already satisfied: numpy in /usr/local/lib/python3.6/dist-packages (from torch) (1.17.4)\n"
          ],
          "name": "stdout"
        },
        {
          "output_type": "stream",
          "text": [
            "Episodes: 98 Reward: 10.0:  20%|█▉        | 99/500 [00:02<00:18, 22.22it/s]"
          ],
          "name": "stderr"
        },
        {
          "output_type": "stream",
          "text": [
            "updated\n"
          ],
          "name": "stdout"
        },
        {
          "output_type": "stream",
          "text": [
            "Episodes: 146 Reward: 13.0:  29%|██▉       | 147/500 [00:04<00:18, 19.33it/s]"
          ],
          "name": "stderr"
        },
        {
          "output_type": "stream",
          "text": [
            "updated\n"
          ],
          "name": "stdout"
        },
        {
          "output_type": "stream",
          "text": [
            "Episodes: 208 Reward: 10.0:  42%|████▏     | 209/500 [00:07<00:12, 23.11it/s]"
          ],
          "name": "stderr"
        },
        {
          "output_type": "stream",
          "text": [
            "updated\n"
          ],
          "name": "stdout"
        },
        {
          "output_type": "stream",
          "text": [
            "Episodes: 269 Reward: 11.0:  54%|█████▍    | 270/500 [00:10<00:12, 18.35it/s]"
          ],
          "name": "stderr"
        },
        {
          "output_type": "stream",
          "text": [
            "updated\n"
          ],
          "name": "stdout"
        },
        {
          "output_type": "stream",
          "text": [
            "Episodes: 310 Reward: 10.0:  62%|██████▏   | 311/500 [00:14<00:24,  7.85it/s]"
          ],
          "name": "stderr"
        },
        {
          "output_type": "stream",
          "text": [
            "updated\n"
          ],
          "name": "stdout"
        },
        {
          "output_type": "stream",
          "text": [
            "Episodes: 325 Reward: 29.0:  65%|██████▌   | 326/500 [00:17<00:36,  4.74it/s] "
          ],
          "name": "stderr"
        },
        {
          "output_type": "stream",
          "text": [
            "updated\n"
          ],
          "name": "stdout"
        },
        {
          "output_type": "stream",
          "text": [
            "Episodes: 336 Reward: 16.0:  67%|██████▋   | 337/500 [00:20<01:05,  2.48it/s] "
          ],
          "name": "stderr"
        },
        {
          "output_type": "stream",
          "text": [
            "updated\n"
          ],
          "name": "stdout"
        },
        {
          "output_type": "stream",
          "text": [
            "Episodes: 344 Reward: 120.0:  69%|██████▉   | 345/500 [00:24<01:16,  2.01it/s]"
          ],
          "name": "stderr"
        },
        {
          "output_type": "stream",
          "text": [
            "updated\n"
          ],
          "name": "stdout"
        },
        {
          "output_type": "stream",
          "text": [
            "Episodes: 352 Reward: 119.0:  71%|███████   | 353/500 [00:28<01:06,  2.20it/s]"
          ],
          "name": "stderr"
        },
        {
          "output_type": "stream",
          "text": [
            "updated\n"
          ],
          "name": "stdout"
        },
        {
          "output_type": "stream",
          "text": [
            "Episodes: 360 Reward: 150.0:  72%|███████▏  | 361/500 [00:32<01:19,  1.74it/s]"
          ],
          "name": "stderr"
        },
        {
          "output_type": "stream",
          "text": [
            "updated\n"
          ],
          "name": "stdout"
        },
        {
          "output_type": "stream",
          "text": [
            "Episodes: 366 Reward: 154.0:  73%|███████▎  | 367/500 [00:36<01:22,  1.61it/s]"
          ],
          "name": "stderr"
        },
        {
          "output_type": "stream",
          "text": [
            "updated\n"
          ],
          "name": "stdout"
        },
        {
          "output_type": "stream",
          "text": [
            "Episodes: 372 Reward: 116.0:  75%|███████▍  | 373/500 [00:41<01:31,  1.39it/s]"
          ],
          "name": "stderr"
        },
        {
          "output_type": "stream",
          "text": [
            "updated\n"
          ],
          "name": "stdout"
        },
        {
          "output_type": "stream",
          "text": [
            "Episodes: 377 Reward: 196.0:  76%|███████▌  | 378/500 [00:45<01:49,  1.12it/s]"
          ],
          "name": "stderr"
        },
        {
          "output_type": "stream",
          "text": [
            "updated\n"
          ],
          "name": "stdout"
        },
        {
          "output_type": "stream",
          "text": [
            "Episodes: 382 Reward: 181.0:  77%|███████▋  | 383/500 [00:50<01:43,  1.13it/s]"
          ],
          "name": "stderr"
        },
        {
          "output_type": "stream",
          "text": [
            "updated\n"
          ],
          "name": "stdout"
        },
        {
          "output_type": "stream",
          "text": [
            "Episodes: 387 Reward: 200.0:  78%|███████▊  | 388/500 [00:55<01:49,  1.03it/s]"
          ],
          "name": "stderr"
        },
        {
          "output_type": "stream",
          "text": [
            "updated\n"
          ],
          "name": "stdout"
        },
        {
          "output_type": "stream",
          "text": [
            "Episodes: 392 Reward: 200.0:  79%|███████▊  | 393/500 [01:00<01:49,  1.02s/it]"
          ],
          "name": "stderr"
        },
        {
          "output_type": "stream",
          "text": [
            "updated\n"
          ],
          "name": "stdout"
        },
        {
          "output_type": "stream",
          "text": [
            "Episodes: 399 Reward: 200.0:  80%|████████  | 400/500 [01:06<01:42,  1.02s/it]"
          ],
          "name": "stderr"
        },
        {
          "output_type": "stream",
          "text": [
            "updated\n"
          ],
          "name": "stdout"
        },
        {
          "output_type": "stream",
          "text": [
            "Episodes: 404 Reward: 200.0:  81%|████████  | 405/500 [01:12<01:48,  1.14s/it]"
          ],
          "name": "stderr"
        },
        {
          "output_type": "stream",
          "text": [
            "updated\n"
          ],
          "name": "stdout"
        },
        {
          "output_type": "stream",
          "text": [
            "Episodes: 409 Reward: 200.0:  82%|████████▏ | 410/500 [01:18<01:45,  1.18s/it]"
          ],
          "name": "stderr"
        },
        {
          "output_type": "stream",
          "text": [
            "updated\n"
          ],
          "name": "stdout"
        },
        {
          "output_type": "stream",
          "text": [
            "Episodes: 414 Reward: 200.0:  83%|████████▎ | 415/500 [01:24<01:42,  1.20s/it]"
          ],
          "name": "stderr"
        },
        {
          "output_type": "stream",
          "text": [
            "updated\n"
          ],
          "name": "stdout"
        },
        {
          "output_type": "stream",
          "text": [
            "Episodes: 419 Reward: 200.0:  84%|████████▍ | 420/500 [01:30<01:40,  1.26s/it]"
          ],
          "name": "stderr"
        },
        {
          "output_type": "stream",
          "text": [
            "updated\n"
          ],
          "name": "stdout"
        },
        {
          "output_type": "stream",
          "text": [
            "Episodes: 424 Reward: 200.0:  85%|████████▌ | 425/500 [01:37<01:37,  1.29s/it]"
          ],
          "name": "stderr"
        },
        {
          "output_type": "stream",
          "text": [
            "updated\n"
          ],
          "name": "stdout"
        },
        {
          "output_type": "stream",
          "text": [
            "Episodes: 428 Reward: 200.0:  86%|████████▌ | 429/500 [01:42<01:32,  1.31s/it]"
          ],
          "name": "stderr"
        },
        {
          "output_type": "stream",
          "text": [
            "updated\n"
          ],
          "name": "stdout"
        },
        {
          "output_type": "stream",
          "text": [
            "Episodes: 434 Reward: 200.0:  87%|████████▋ | 435/500 [01:50<01:28,  1.36s/it]"
          ],
          "name": "stderr"
        },
        {
          "output_type": "stream",
          "text": [
            "updated\n"
          ],
          "name": "stdout"
        },
        {
          "output_type": "stream",
          "text": [
            "Episodes: 438 Reward: 200.0:  88%|████████▊ | 439/500 [01:56<01:25,  1.40s/it]"
          ],
          "name": "stderr"
        },
        {
          "output_type": "stream",
          "text": [
            "updated\n"
          ],
          "name": "stdout"
        },
        {
          "output_type": "stream",
          "text": [
            "Episodes: 444 Reward: 200.0:  89%|████████▉ | 445/500 [02:04<01:19,  1.45s/it]"
          ],
          "name": "stderr"
        },
        {
          "output_type": "stream",
          "text": [
            "updated\n"
          ],
          "name": "stdout"
        },
        {
          "output_type": "stream",
          "text": [
            "Episodes: 449 Reward: 196.0:  90%|█████████ | 450/500 [02:12<01:13,  1.46s/it]"
          ],
          "name": "stderr"
        },
        {
          "output_type": "stream",
          "text": [
            "updated\n"
          ],
          "name": "stdout"
        },
        {
          "output_type": "stream",
          "text": [
            "Episodes: 454 Reward: 200.0:  91%|█████████ | 455/500 [02:19<01:06,  1.48s/it]"
          ],
          "name": "stderr"
        },
        {
          "output_type": "stream",
          "text": [
            "updated\n"
          ],
          "name": "stdout"
        },
        {
          "output_type": "stream",
          "text": [
            "Episodes: 459 Reward: 194.0:  92%|█████████▏| 460/500 [02:26<01:00,  1.52s/it]"
          ],
          "name": "stderr"
        },
        {
          "output_type": "stream",
          "text": [
            "updated\n"
          ],
          "name": "stdout"
        },
        {
          "output_type": "stream",
          "text": [
            "Episodes: 464 Reward: 198.0:  93%|█████████▎| 465/500 [02:34<00:54,  1.57s/it]"
          ],
          "name": "stderr"
        },
        {
          "output_type": "stream",
          "text": [
            "updated\n"
          ],
          "name": "stdout"
        },
        {
          "output_type": "stream",
          "text": [
            "Episodes: 469 Reward: 200.0:  94%|█████████▍| 470/500 [02:43<00:49,  1.65s/it]"
          ],
          "name": "stderr"
        },
        {
          "output_type": "stream",
          "text": [
            "updated\n"
          ],
          "name": "stdout"
        },
        {
          "output_type": "stream",
          "text": [
            "Episodes: 474 Reward: 198.0:  95%|█████████▌| 475/500 [02:51<00:41,  1.66s/it]"
          ],
          "name": "stderr"
        },
        {
          "output_type": "stream",
          "text": [
            "updated\n"
          ],
          "name": "stdout"
        },
        {
          "output_type": "stream",
          "text": [
            "Episodes: 480 Reward: 200.0:  96%|█████████▌| 481/500 [03:00<00:30,  1.58s/it]"
          ],
          "name": "stderr"
        },
        {
          "output_type": "stream",
          "text": [
            "updated\n"
          ],
          "name": "stdout"
        },
        {
          "output_type": "stream",
          "text": [
            "Episodes: 485 Reward: 194.0:  97%|█████████▋| 486/500 [03:09<00:23,  1.66s/it]"
          ],
          "name": "stderr"
        },
        {
          "output_type": "stream",
          "text": [
            "updated\n"
          ],
          "name": "stdout"
        },
        {
          "output_type": "stream",
          "text": [
            "Episodes: 490 Reward: 200.0:  98%|█████████▊| 491/500 [03:17<00:15,  1.69s/it]"
          ],
          "name": "stderr"
        },
        {
          "output_type": "stream",
          "text": [
            "updated\n"
          ],
          "name": "stdout"
        },
        {
          "output_type": "stream",
          "text": [
            "Episodes: 496 Reward: 200.0:  99%|█████████▉| 497/500 [03:27<00:05,  1.68s/it]"
          ],
          "name": "stderr"
        },
        {
          "output_type": "stream",
          "text": [
            "updated\n"
          ],
          "name": "stdout"
        },
        {
          "output_type": "stream",
          "text": [
            "Episodes: 499 Reward: 158.0: 100%|██████████| 500/500 [03:32<00:00,  1.59s/it]"
          ],
          "name": "stderr"
        },
        {
          "output_type": "display_data",
          "data": {
            "image/png": "[encoded data removed]",
            "text/plain": [
              "<Figure size 432x288 with 1 Axes>"
            ]
          },
          "metadata": {
            "tags": []
          }
        }
      ]
    }
  ]
}